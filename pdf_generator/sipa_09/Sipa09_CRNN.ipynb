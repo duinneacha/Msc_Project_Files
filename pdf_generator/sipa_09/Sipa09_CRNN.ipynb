{
 "cells": [
  {
   "cell_type": "code",
   "execution_count": 1,
   "metadata": {},
   "outputs": [],
   "source": [
    "%load_ext autoreload\n",
    "%autoreload 2\n",
    "%matplotlib inline"
   ]
  },
  {
   "cell_type": "code",
   "execution_count": 3,
   "metadata": {},
   "outputs": [],
   "source": [
    "import sys\n",
    "sys.path.append(\"../../project_functions/\")\n",
    "from matplotlib import pyplot as plt\n",
    "import ad_functions as adfns\n",
    "import sipa_rep_functions as sf\n",
    "import sipa09_functions as s9fns\n",
    "import pytesseract\n",
    "import cv2\n",
    "import numpy as np\n",
    "import pandas as pd\n",
    "import os\n",
    "import shutil\n",
    "from icecream import ic\n",
    "\n",
    "# psm 6 = Assume a single uniform block of text.\n",
    "config_tesseract = '--tessdata-dir ./ttesseract_langs --psm 7 digits'"
   ]
  },
  {
   "cell_type": "code",
   "execution_count": 4,
   "metadata": {},
   "outputs": [],
   "source": [
    "from reportlab.lib.pagesizes import A4, landscape\n",
    "from reportlab.platypus import Table\n",
    "from reportlab.pdfgen import canvas"
   ]
  },
  {
   "cell_type": "code",
   "execution_count": 5,
   "metadata": {},
   "outputs": [
    {
     "data": {
      "text/plain": [
       "(['S09_F01_Cropped.png',\n",
       "  'S09_F02_Cropped.png',\n",
       "  'S09_F03_Cropped.png',\n",
       "  'S09_F04_Cropped.png',\n",
       "  'S09_F05_Cropped.png',\n",
       "  'S09_F06_Cropped.png',\n",
       "  'S09_F07_Cropped.png',\n",
       "  'S09_F08_Cropped.png',\n",
       "  'S09_F09_Cropped.png',\n",
       "  'S09_F10_Cropped.png',\n",
       "  'S09_F11a_Cropped.png',\n",
       "  'S09_F11b_Cropped.png',\n",
       "  'S09_F12_Cropped.png',\n",
       "  'S09_F13_Cropped.png',\n",
       "  'S09_F14_Cropped.png',\n",
       "  'S09_F15_Cropped.png',\n",
       "  'S09_F16_Cropped.png',\n",
       "  'S09_F17_Cropped.png',\n",
       "  'S09_F18_Cropped.png',\n",
       "  'S09_F19_Cropped.png'],\n",
       " 20)"
      ]
     },
     "execution_count": 5,
     "metadata": {},
     "output_type": "execute_result"
    }
   ],
   "source": [
    "file_path = \"./cropped_images/9/\"\n",
    "file_list = os.listdir(file_path)\n",
    "\n",
    "file_list, len(file_list)"
   ]
  },
  {
   "cell_type": "code",
   "execution_count": null,
   "metadata": {},
   "outputs": [],
   "source": []
  },
  {
   "cell_type": "code",
   "execution_count": 6,
   "metadata": {},
   "outputs": [
    {
     "ename": "PermissionError",
     "evalue": "[WinError 32] The process cannot access the file because it is being used by another process: 'sipa_09_crnn_600k_report.pdf'",
     "output_type": "error",
     "traceback": [
      "\u001b[1;31m---------------------------------------------------------------------------\u001b[0m",
      "\u001b[1;31mPermissionError\u001b[0m                           Traceback (most recent call last)",
      "\u001b[1;32md:\\MTU\\_Project_Grunt_Work\\pdf_generator\\sipa_09\\Sipa09_CRNN.ipynb Cell 6\u001b[0m in \u001b[0;36m3\n\u001b[0;32m      <a href='vscode-notebook-cell:/d%3A/MTU/_Project_Grunt_Work/pdf_generator/sipa_09/Sipa09_CRNN.ipynb#W5sZmlsZQ%3D%3D?line=0'>1</a>\u001b[0m report_filename \u001b[39m=\u001b[39m \u001b[39m\"\u001b[39m\u001b[39msipa_09_crnn_600k_report.pdf\u001b[39m\u001b[39m\"\u001b[39m\n\u001b[1;32m----> <a href='vscode-notebook-cell:/d%3A/MTU/_Project_Grunt_Work/pdf_generator/sipa_09/Sipa09_CRNN.ipynb#W5sZmlsZQ%3D%3D?line=2'>3</a>\u001b[0m adfns\u001b[39m.\u001b[39;49mdelete_file(report_filename)\n\u001b[0;32m      <a href='vscode-notebook-cell:/d%3A/MTU/_Project_Grunt_Work/pdf_generator/sipa_09/Sipa09_CRNN.ipynb#W5sZmlsZQ%3D%3D?line=5'>6</a>\u001b[0m \u001b[39m# create a canvas object with A4 landscape page size\u001b[39;00m\n\u001b[0;32m      <a href='vscode-notebook-cell:/d%3A/MTU/_Project_Grunt_Work/pdf_generator/sipa_09/Sipa09_CRNN.ipynb#W5sZmlsZQ%3D%3D?line=6'>7</a>\u001b[0m pdf \u001b[39m=\u001b[39m canvas\u001b[39m.\u001b[39mCanvas(report_filename, pagesize\u001b[39m=\u001b[39mlandscape(A4))\n",
      "File \u001b[1;32md:\\MTU\\_Project_Grunt_Work\\pdf_generator\\sipa_09\\../../project_functions\\ad_functions.py:794\u001b[0m, in \u001b[0;36mdelete_file\u001b[1;34m(filename)\u001b[0m\n\u001b[0;32m    784\u001b[0m \u001b[39m\"\"\"\u001b[39;00m\n\u001b[0;32m    785\u001b[0m \u001b[39mDelete the specified file if it exists.\u001b[39;00m\n\u001b[0;32m    786\u001b[0m \n\u001b[1;32m   (...)\u001b[0m\n\u001b[0;32m    791\u001b[0m \u001b[39mNone.\u001b[39;00m\n\u001b[0;32m    792\u001b[0m \u001b[39m\"\"\"\u001b[39;00m\n\u001b[0;32m    793\u001b[0m \u001b[39mif\u001b[39;00m os\u001b[39m.\u001b[39mpath\u001b[39m.\u001b[39mexists(filename):  \u001b[39m# check if the file exists\u001b[39;00m\n\u001b[1;32m--> 794\u001b[0m     os\u001b[39m.\u001b[39;49mremove(filename)  \u001b[39m# remove the file\u001b[39;00m\n\u001b[0;32m    795\u001b[0m     \u001b[39mprint\u001b[39m(\u001b[39mf\u001b[39m\u001b[39m\"\u001b[39m\u001b[39m{\u001b[39;00mfilename\u001b[39m}\u001b[39;00m\u001b[39m has been deleted.\u001b[39m\u001b[39m\"\u001b[39m)\n\u001b[0;32m    796\u001b[0m \u001b[39melse\u001b[39;00m:\n",
      "\u001b[1;31mPermissionError\u001b[0m: [WinError 32] The process cannot access the file because it is being used by another process: 'sipa_09_crnn_600k_report.pdf'"
     ]
    }
   ],
   "source": [
    "report_filename = \"sipa_09_crnn_600k_report.pdf\"\n",
    "\n",
    "adfns.delete_file(report_filename)\n",
    "\n",
    "\n",
    "# create a canvas object with A4 landscape page size\n",
    "pdf = canvas.Canvas(report_filename, pagesize=landscape(A4))\n",
    "pdf.setTitle('SIPA 9 CRNN Report')\n",
    "\n",
    "height, width = A4\n",
    "\n",
    "# set the fill color of the canvas to light grey\n",
    "pdf.setFillColorRGB(0.8, 0.8, 0.8)\n",
    "\n",
    "# draw a rectangle to fill the entire page\n",
    "pdf.rect(0, 0, width, height, fill=True, stroke=False)\n",
    "\n",
    "\n",
    "\n",
    "heightList = [\n",
    "    height * 15 / 100, # header\n",
    "    height * 80 / 100, # body\n",
    "    height * 5  / 100, # footer\n",
    "]\n",
    "\n",
    "horizontalPadding   = 10\n",
    "verticalPadding     = 10\n",
    "\n",
    "body_horizontal_padding = 30\n",
    "\n",
    "length      = len(file_list)\n",
    "chunckSize  = 2 # number of elements per page\n",
    "\n",
    "\n",
    "\n",
    "image_matrix = np.empty((0, 7, 300, 300, 3), dtype=np.uint8)\n",
    "for startIdx in range(0, length, chunckSize):\n",
    "\n",
    "    endIdx = startIdx + chunckSize\n",
    "    _data = file_list[startIdx:endIdx]\n",
    "    image_matrix, digits_matrix = s9fns.get_sipa09_crnn_images(_data, file_path)\n",
    "\n",
    "    # print(\"image_matrix.shape\", image_matrix.shape)\n",
    "    # print(\"digits_matrix.shape\", digits_matrix.shape)\n",
    "\n",
    "    mainTable = Table([\n",
    "        [sf.genHeaderTable(width, heightList[0], \"SIPA 09 Image Processing Report\")],\n",
    "        [sf.s09_crnn_genBodyTable(width - body_horizontal_padding, heightList[1], image_matrix, digits_matrix, _data, chunckSize)],\n",
    "        [sf.genFooterTable(width, heightList[2])],\n",
    "    ],\n",
    "\n",
    "    colWidths=width,\n",
    "    rowHeights=heightList\n",
    "    )\n",
    "    mainTable.setStyle([\n",
    "        # ('GRID', (0, 0), (-1, -1), 5, 'red'),\n",
    "        ('VALIGN', (0, 1), (0, 1), 'TOP'),  # vertical align\n",
    "        ('BOTTOMPADDING', (0, 0), (-1, -1), 0),\n",
    "        ('LEFTPADDING', (0, 0), (-1, -1), 0),\n",
    "        # ('LEFTPADDING', (1, 1), (-1, 1), 80), # body horizontal padding\n",
    "        ('BOTTOMPADDING', (0, 1), (-1, 1), 40),\n",
    "        ('TOPPADDING', (0, 1), (-1, 1), 15),\n",
    "        # ('ALIGN', (0, 1), (-1,0), 'CENTER'),\n",
    "        # ('RIGHTPADDING', (1, 0), (1, -1), 40),\n",
    "        # ('LEFTPADDING', (1, 0), (1, 0), body_horizontal_padding / 2),\n",
    "    ])\n",
    "\n",
    "\n",
    "    mainTable.wrapOn(pdf, 0, 0)\n",
    "    mainTable.drawOn(pdf, 0, 0)\n",
    "    pdf.showPage()\n",
    "\n",
    "pdf.save()\n"
   ]
  }
 ],
 "metadata": {
  "kernelspec": {
   "display_name": "py3-TF2",
   "language": "python",
   "name": "python3"
  },
  "language_info": {
   "codemirror_mode": {
    "name": "ipython",
    "version": 3
   },
   "file_extension": ".py",
   "mimetype": "text/x-python",
   "name": "python",
   "nbconvert_exporter": "python",
   "pygments_lexer": "ipython3",
   "version": "3.8.13"
  },
  "orig_nbformat": 4
 },
 "nbformat": 4,
 "nbformat_minor": 2
}
