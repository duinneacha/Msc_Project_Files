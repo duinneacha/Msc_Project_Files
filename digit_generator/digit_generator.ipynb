{
 "cells": [
  {
   "cell_type": "code",
   "execution_count": 1,
   "metadata": {},
   "outputs": [],
   "source": [
    "%load_ext autoreload\n",
    "%autoreload 2\n",
    "%matplotlib inline"
   ]
  },
  {
   "cell_type": "code",
   "execution_count": 3,
   "metadata": {},
   "outputs": [],
   "source": [
    "# from PIL import Image, ImageDraw, ImageFont, Resampling\n",
    "import PIL.Image\n",
    "if not hasattr(PIL.Image, 'Resampling'):  # Pillow<9.0\n",
    "    PIL.Image.Resampling = PIL.Image\n",
    "from uuid import uuid4\n",
    "import os\n",
    "import random\n",
    "import pandas as pd\n",
    "\n",
    "import sys\n",
    "sys.path.append(\"../project_functions/\")\n",
    "from matplotlib import pyplot as plt\n",
    "import digit_functions as dgf\n"
   ]
  },
  {
   "cell_type": "code",
   "execution_count": 11,
   "metadata": {},
   "outputs": [
    {
     "name": "stdout",
     "output_type": "stream",
     "text": [
      "9.2.0\n"
     ]
    }
   ],
   "source": [
    "import PIL\n",
    "print(PIL.__version__)"
   ]
  },
  {
   "cell_type": "code",
   "execution_count": 29,
   "metadata": {},
   "outputs": [],
   "source": [
    "# import os\n",
    "# import random\n",
    "# import string\n",
    "# from PIL import Image, ImageDraw, ImageFont\n",
    "\n",
    "# def random_filename(digit):\n",
    "#     \"\"\"Generate a random filename with a mix of digits and alpha characters, ending with the digit.\"\"\"\n",
    "#     random_str = ''.join(random.choices(string.ascii_letters + string.digits, k=8))\n",
    "#     return f\"{random_str}_{digit}.png\"\n",
    "\n",
    "# def create_digit_image(font_file, output_folder, digit):\n",
    "#     \"\"\"Create an image with a single digit of the specified font, random size, and random tilt.\"\"\"\n",
    "#     font_size = random.randint(20, 100)\n",
    "#     tilt = random.randint(-30, 30)\n",
    "#     font = ImageFont.truetype(font_file, font_size)\n",
    "\n",
    "#     img = Image.new('RGBA', (font_size, font_size), (255, 255, 255, 0))\n",
    "#     draw = ImageDraw.Draw(img)\n",
    "#     draw.text((random.randint(0, font_size // 2), random.randint(0, font_size // 2)),\n",
    "#               str(digit), font=font, fill=\"black\")\n",
    "\n",
    "#     img = img.rotate(tilt, resample=Image.Resampling.BICUBIC, expand=1)\n",
    "#     img.save(os.path.join(output_folder, random_filename(digit)))\n",
    "\n",
    "# def generate_digit_images(font_file, num_files_to_create, output_folder):\n",
    "#     \"\"\"\n",
    "#     Generate the specified number of digit image files using the provided font_file and save them in the output_folder.\n",
    "#     \"\"\"\n",
    "#     if not os.path.exists(output_folder):\n",
    "#         os.makedirs(output_folder)\n",
    "\n",
    "#     for _ in range(num_files_to_create):\n",
    "#         create_digit_image(font_file, output_folder, random.randint(0, 9))\n",
    "\n"
   ]
  },
  {
   "attachments": {},
   "cell_type": "markdown",
   "metadata": {},
   "source": [
    "I want you to write a python program for me. The purpose of the program is to create some image files containing random single digits. These digit files will be used to train a CRNN. It is i mportant that some randomisation occurs in size and placement the tilt\n",
    "\n",
    "Inputs:\n",
    "I will provide a font ttf file called \"font_file\" and want to specify the number of digits files to create \"num_files_to_create\". I will also specify the output folder \"output_folder\".\n",
    "\n",
    "Output:\n",
    "PNG Image file containing single digit of the specified font, random size, random tilt. The filename should be random digits and alpha characters - ending with _ and the digit within.\n",
    "\n",
    "Randomize text color and background color: Increase the variation in text and background colors while maintaining high contrast. This will help the CRNN to be more robust against different color schemes.\n",
    "\n",
    "Add random noise and distortions: Apply random noise and distortions to the generated images. This will help the CRNN learn to recognize digits in noisy or distorted conditions.\n",
    "\n",
    "Vary image dimensions: Generate images with varying dimensions, as the CRNN should be able to recognize digits of different sizes and aspect ratios.\n",
    "\n",
    "Add random padding and cropping: Apply random padding and cropping to the images. This can help the CRNN learn to recognize digits that are partially visible or occluded.\n",
    "\n",
    "Include other transformations: Apply other transformations like skewing, stretching, or flipping the images. This can help the CRNN to learn invariance to these transformations.\n",
    "\n",
    "Create multi-digit images: Generate images with multiple digits and corresponding labels. This can help the CRNN to learn the context and the relationship between digits.\n",
    "\n",
    "Balance the dataset: Ensure that the dataset contains an equal number of images for each digit, avoiding class imbalance issues during training.\n",
    "\n",
    "There should be a record of the files created within a pandas dataframe - this should be returned and persisted to csv. This program will be run multiple times using different font files - make sure the returning dataframe is appended and not overwriting the csv.\n",
    "\n",
    "All code outside of the input parameters should be held within functions, must be well commented and contain docstring.\n",
    "\n"
   ]
  },
  {
   "attachments": {},
   "cell_type": "markdown",
   "metadata": {},
   "source": []
  },
  {
   "cell_type": "code",
   "execution_count": 33,
   "metadata": {},
   "outputs": [],
   "source": [
    "# import os\n",
    "# import random\n",
    "# import string\n",
    "# import pandas as pd\n",
    "# from PIL import Image, ImageDraw, ImageFont\n",
    "\n",
    "# def random_filename(digit):\n",
    "#     \"\"\"Generate a random filename with a mix of digits and alpha characters, ending with the digit.\"\"\"\n",
    "#     random_str = ''.join(random.choices(string.ascii_letters + string.digits, k=8))\n",
    "#     return f\"{random_str}_{digit}.png\"\n",
    "\n",
    "# def create_digit_image(font_file, output_folder, digit):\n",
    "#     \"\"\"Create an image with a single digit of the specified font, random size, random tilt, and high contrast.\"\"\"\n",
    "#     font_size = random.randint(20, 100)\n",
    "#     tilt = random.randint(-30, 30)\n",
    "#     font = ImageFont.truetype(font_file, font_size)\n",
    "\n",
    "#     img_width, img_height = font.getsize(str(digit))\n",
    "#     img = Image.new('RGBA', (img_width * 2, img_height * 2), (255, 255, 255, 0))\n",
    "#     draw = ImageDraw.Draw(img)\n",
    "\n",
    "#     # Randomly select text and background colors for high contrast\n",
    "#     if random.choice([True, False]):\n",
    "#         text_color, bg_color = (0, 0, 0), (255, 255, 255)\n",
    "#     else:\n",
    "#         text_color, bg_color = (255, 255, 255), (0, 0, 0)\n",
    "        \n",
    "#     draw.rectangle([(0, 0), (img_width * 2, img_height * 2)], fill=bg_color)\n",
    "#     draw.text((img_width // 2, img_height // 2), str(digit), font=font, fill=text_color)\n",
    "\n",
    "#     img = img.rotate(tilt, resample=Image.Resampling.BICUBIC, expand=1, fillcolor=bg_color)\n",
    "#     img.save(os.path.join(output_folder, random_filename(digit)))\n",
    "\n",
    "# def generate_digit_images(font_file, num_files_to_create, output_folder):\n",
    "#     \"\"\"\n",
    "#     Generate the specified number of digit image files using the provided font_file and save them in the output_folder.\n",
    "#     Returns a Pandas DataFrame containing the file paths of the generated images.\n",
    "#     \"\"\"\n",
    "#     if not os.path.exists(output_folder):\n",
    "#         os.makedirs(output_folder)\n",
    "\n",
    "#     records = []\n",
    "#     for _ in range(num_files_to_create):\n",
    "#         digit = random.randint(0, 9)\n",
    "#         file_name = random_filename(digit)\n",
    "#         create_digit_image(font_file, output_folder, digit)\n",
    "#         records.append({\"file_name\": file_name, \"label\": digit})\n",
    "    \n",
    "#     df = pd.DataFrame(records)\n",
    "#     return df"
   ]
  },
  {
   "cell_type": "code",
   "execution_count": 8,
   "metadata": {},
   "outputs": [],
   "source": [
    "# font_file = \"./fonts/DOTMATRI.TTF\"\n",
    "font_file = \"./fonts/5by7_b.ttf\"\n",
    "num_files_to_create = 100000\n",
    "output_folder = \"./digits\"\n",
    "csv_file = \"digit_training_data.csv\"\n",
    "    \n",
    "# df = generate_digit_images(font_file, num_files_to_create, output_folder)\n",
    "# df.to_csv(\"file_records.csv\", index=False)\n",
    "\n",
    "dgf.main(font_file, num_files_to_create, output_folder, csv_file)\n"
   ]
  }
 ],
 "metadata": {
  "kernelspec": {
   "display_name": "py3-TF2",
   "language": "python",
   "name": "python3"
  },
  "language_info": {
   "codemirror_mode": {
    "name": "ipython",
    "version": 3
   },
   "file_extension": ".py",
   "mimetype": "text/x-python",
   "name": "python",
   "nbconvert_exporter": "python",
   "pygments_lexer": "ipython3",
   "version": "3.8.13"
  },
  "orig_nbformat": 4
 },
 "nbformat": 4,
 "nbformat_minor": 2
}
