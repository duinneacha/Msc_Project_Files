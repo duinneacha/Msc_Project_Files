{
 "cells": [
  {
   "cell_type": "code",
   "execution_count": 1,
   "metadata": {},
   "outputs": [],
   "source": [
    "%load_ext autoreload\n",
    "%autoreload 2\n",
    "%matplotlib inline"
   ]
  },
  {
   "cell_type": "code",
   "execution_count": 2,
   "metadata": {},
   "outputs": [],
   "source": [
    "# from PIL import Image, ImageDraw, ImageFont, Resampling\n",
    "import PIL.Image\n",
    "if not hasattr(PIL.Image, 'Resampling'):  # Pillow<9.0\n",
    "    PIL.Image.Resampling = PIL.Image\n",
    "from uuid import uuid4\n",
    "import os\n",
    "import random\n",
    "import pandas as pd\n",
    "\n",
    "import sys\n",
    "sys.path.append(\"../project_functions/\")\n",
    "from matplotlib import pyplot as plt\n",
    "import digit_functions as dgf\n"
   ]
  },
  {
   "cell_type": "code",
   "execution_count": 3,
   "metadata": {},
   "outputs": [
    {
     "name": "stdout",
     "output_type": "stream",
     "text": [
      "9.2.0\n"
     ]
    }
   ],
   "source": [
    "import PIL\n",
    "print(PIL.__version__)"
   ]
  },
  {
   "attachments": {},
   "cell_type": "markdown",
   "metadata": {},
   "source": [
    "I want you to write a python program for me. The purpose of the program is to create some image files containing random single digits. These digit files will be used to train a CRNN. It is i mportant that some randomisation occurs in size and placement the tilt\n",
    "\n",
    "Inputs:\n",
    "I will provide a font ttf file called \"font_file\" and want to specify the number of digits files to create \"num_files_to_create\". I will also specify the output folder \"output_folder\".\n",
    "\n",
    "Output:\n",
    "PNG Image file containing single digit of the specified font, random size, random tilt. The filename should be random digits and alpha characters - ending with _ and the digit within.\n",
    "\n",
    "Randomize text color and background color: Increase the variation in text and background colors while maintaining high contrast. This will help the CRNN to be more robust against different color schemes.\n",
    "\n",
    "Add random noise and distortions: Apply random noise and distortions to the generated images. This will help the CRNN learn to recognize digits in noisy or distorted conditions.\n",
    "\n",
    "Vary image dimensions: Generate images with varying dimensions, as the CRNN should be able to recognize digits of different sizes and aspect ratios.\n",
    "\n",
    "Add random padding and cropping: Apply random padding and cropping to the images. This can help the CRNN learn to recognize digits that are partially visible or occluded.\n",
    "\n",
    "Include other transformations: Apply other transformations like skewing, stretching, or flipping the images. This can help the CRNN to learn invariance to these transformations.\n",
    "\n",
    "Create multi-digit images: Generate images with multiple digits and corresponding labels. This can help the CRNN to learn the context and the relationship between digits.\n",
    "\n",
    "Balance the dataset: Ensure that the dataset contains an equal number of images for each digit, avoiding class imbalance issues during training.\n",
    "\n",
    "There should be a record of the files created within a pandas dataframe - this should be returned and persisted to csv. This program will be run multiple times using different font files - make sure the returning dataframe is appended and not overwriting the csv.\n",
    "\n",
    "All code outside of the input parameters should be held within functions, must be well commented and contain docstring.\n",
    "\n"
   ]
  },
  {
   "attachments": {},
   "cell_type": "markdown",
   "metadata": {},
   "source": []
  },
  {
   "cell_type": "code",
   "execution_count": 5,
   "metadata": {},
   "outputs": [],
   "source": [
    "# font_file = \"./fonts/mockup-bold.otf\"\n",
    "font_file = \"./fonts/Ubuntu-Medium.ttf\"\n",
    "num_files_to_create = 100000\n",
    "output_folder = \"./digits_s11\"\n",
    "csv_file = \"digit_training_data.csv\"\n",
    "    \n",
    "# df = generate_digit_images(font_file, num_files_to_create, output_folder)\n",
    "# df.to_csv(\"file_records.csv\", index=False)\n",
    "\n",
    "dgf.main(font_file, num_files_to_create, output_folder, csv_file)\n"
   ]
  },
  {
   "cell_type": "code",
   "execution_count": 2,
   "metadata": {},
   "outputs": [
    {
     "name": "stderr",
     "output_type": "stream",
     "text": [
      "C:\\Users\\USER\\AppData\\Local\\Temp\\ipykernel_16508\\1834555027.py:19: DeprecationWarning: getsize is deprecated and will be removed in Pillow 10 (2023-07-01). Use getbbox or getlength instead.\n",
      "  width, height = font.getsize(str(digit))\n"
     ]
    }
   ],
   "source": [
    "import os\n",
    "import random\n",
    "import string\n",
    "from PIL import Image, ImageDraw, ImageFont\n",
    "import pandas as pd\n",
    "\n",
    "def create_random_digit_image(font_file, output_folder, digit, filename):\n",
    "    \"\"\"\n",
    "    Creates a random single digit image using the specified font file.\n",
    "    \n",
    "    Args:\n",
    "        font_file (str): Font file path (ttf).\n",
    "        output_folder (str): Output folder path.\n",
    "        digit (int): The digit to create an image for.\n",
    "        filename (str): The filename for the created image.\n",
    "    \"\"\"\n",
    "    font_size = random.randint(20, 100)\n",
    "    font = ImageFont.truetype(font_file, font_size)\n",
    "    width, height = font.getsize(str(digit))\n",
    "    img = Image.new(\"RGBA\", (width, height), (255, 255, 255, 255))\n",
    "    draw = ImageDraw.Draw(img)\n",
    "    draw.text((0, 0), str(digit), font=font, fill=(0, 0, 0, 255))\n",
    "    img.save(os.path.join(output_folder, filename + \".png\"), \"PNG\")\n",
    "\n",
    "def create_random_digit_images(font_file, num_files_to_create, output_folder):\n",
    "    \"\"\"\n",
    "    Creates random single digit images using the specified font file.\n",
    "    \n",
    "    Args:\n",
    "        font_file (str): Font file path (ttf).\n",
    "        num_files_to_create (int): The number of image files to create.\n",
    "        output_folder (str): Output folder path.\n",
    "    \n",
    "    Returns:\n",
    "        pd.DataFrame: A dataframe containing the filenames and digits created.\n",
    "    \"\"\"\n",
    "    if not os.path.exists(output_folder):\n",
    "        os.makedirs(output_folder)\n",
    "\n",
    "    records = []\n",
    "    num_files_per_digit = num_files_to_create // 10\n",
    "\n",
    "    for digit in range(10):\n",
    "        for _ in range(num_files_per_digit):\n",
    "            filename = ''.join(random.choices(string.ascii_letters + string.digits, k=8)) + '_' + str(digit)\n",
    "            create_random_digit_image(font_file, output_folder, digit, filename)\n",
    "            records.append((filename, digit))\n",
    "\n",
    "    return pd.DataFrame(records, columns=[\"filename\", \"digit\"])\n",
    "\n",
    "def append_dataframe_to_csv(df, csv_file):\n",
    "    \"\"\"\n",
    "    Appends a dataframe to a CSV file.\n",
    "    \n",
    "    Args:\n",
    "        df (pd.DataFrame): The dataframe to append.\n",
    "        csv_file (str): The CSV file to append the dataframe to.\n",
    "    \"\"\"\n",
    "    if os.path.exists(csv_file):\n",
    "        df_existing = pd.read_csv(csv_file)\n",
    "        df_combined = pd.concat([df_existing, df], ignore_index=True)\n",
    "    else:\n",
    "        df_combined = df\n",
    "\n",
    "    df_combined.to_csv(csv_file, index=False)\n",
    "\n",
    "# Input parameters\n",
    "# font_file = \"./fonts/mockup-bold.otf\"\n",
    "font_file = \"./fonts/Ubuntu-Medium.ttf\"\n",
    "\n",
    "num_files_to_create = 200000\n",
    "output_folder = \"digits_sipa11\"\n",
    "csv_file = \"created_files.csv\"\n",
    "\n",
    "# Create images and record in dataframe\n",
    "df = create_random_digit_images(font_file, num_files_to_create, output_folder)\n",
    "\n",
    "# Append dataframe to CSV\n",
    "append_dataframe_to_csv(df, csv_file)\n"
   ]
  }
 ],
 "metadata": {
  "kernelspec": {
   "display_name": "py3-TF2",
   "language": "python",
   "name": "python3"
  },
  "language_info": {
   "codemirror_mode": {
    "name": "ipython",
    "version": 3
   },
   "file_extension": ".py",
   "mimetype": "text/x-python",
   "name": "python",
   "nbconvert_exporter": "python",
   "pygments_lexer": "ipython3",
   "version": "3.8.13"
  },
  "orig_nbformat": 4
 },
 "nbformat": 4,
 "nbformat_minor": 2
}
