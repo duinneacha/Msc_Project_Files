{
 "cells": [
  {
   "cell_type": "code",
   "execution_count": null,
   "metadata": {},
   "outputs": [],
   "source": [
    "import os\n",
    "import glob\n",
    "\n",
    "# specify the directory path where the files are located\n",
    "path = \"./digits_600k\"\n",
    "\n",
    "\n",
    "# use glob to get all files in the directory with the specified file name pattern\n",
    "files = glob.glob(os.path.join(path, \"????????_?.png\"))\n",
    "\n",
    "# create a dictionary to group the files based on the last character of the file name\n",
    "groups = {}\n",
    "for file in files:\n",
    "    key = file[-5] # get the last character of the file name\n",
    "    if key not in groups:\n",
    "        groups[key] = []\n",
    "    groups[key].append(file)\n",
    "\n",
    "# print the groups\n",
    "for key, group in groups.items():\n",
    "    print(f\"Group {key}:\")\n",
    "    for file in group:\n",
    "        print(file)\n"
   ]
  },
  {
   "cell_type": "code",
   "execution_count": 4,
   "metadata": {},
   "outputs": [
    {
     "name": "stdout",
     "output_type": "stream",
     "text": [
      "Number of files ending with 0: 60000\n",
      "Number of files ending with 1: 60000\n",
      "Number of files ending with 2: 60000\n",
      "Number of files ending with 3: 60000\n",
      "Number of files ending with 4: 60000\n",
      "Number of files ending with 5: 60000\n",
      "Number of files ending with 6: 60000\n",
      "Number of files ending with 7: 60000\n",
      "Number of files ending with 8: 60000\n",
      "Number of files ending with 9: 60000\n"
     ]
    }
   ],
   "source": [
    "import os\n",
    "\n",
    "def count_files_by_digit(folder_path):\n",
    "    file_counts = {}\n",
    "\n",
    "    for file_name in os.listdir(folder_path):\n",
    "        if file_name.endswith(\".png\"):\n",
    "            digit = file_name[-5]  # Get the digit before the file extension\n",
    "            if digit not in file_counts:\n",
    "                file_counts[digit] = 0\n",
    "            file_counts[digit] += 1\n",
    "\n",
    "    return file_counts\n",
    "\n",
    "\n",
    "folder_path = \"./digits_600k\"\n",
    "file_counts = count_files_by_digit(folder_path)\n",
    "\n",
    "for digit in sorted(file_counts.keys()):\n",
    "    count = file_counts[digit]\n",
    "    print(f\"Number of files ending with {digit}: {count}\")\n"
   ]
  }
 ],
 "metadata": {
  "kernelspec": {
   "display_name": "py3-TF2",
   "language": "python",
   "name": "python3"
  },
  "language_info": {
   "codemirror_mode": {
    "name": "ipython",
    "version": 3
   },
   "file_extension": ".py",
   "mimetype": "text/x-python",
   "name": "python",
   "nbconvert_exporter": "python",
   "pygments_lexer": "ipython3",
   "version": "3.8.13"
  },
  "orig_nbformat": 4
 },
 "nbformat": 4,
 "nbformat_minor": 2
}
