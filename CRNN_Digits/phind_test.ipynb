{
 "cells": [
  {
   "cell_type": "code",
   "execution_count": 1,
   "metadata": {},
   "outputs": [],
   "source": [
    "%load_ext autoreload\n",
    "%autoreload 2\n",
    "%matplotlib inline"
   ]
  },
  {
   "cell_type": "code",
   "execution_count": 2,
   "metadata": {},
   "outputs": [],
   "source": [
    "import os\n",
    "\n",
    "import sys\n",
    "sys.path.append(\"../project_functions/\")\n",
    "import ad_functions as adfns\n",
    "import ad_crnn_functions as adcrn\n",
    "\n",
    "from matplotlib import pyplot as plt\n",
    "import pandas as pd\n",
    "import numpy as np\n",
    "import cv2\n",
    "from sklearn.model_selection import train_test_split\n",
    "import tensorflow as tf\n",
    "from tensorflow.keras.models import Model, load_model\n",
    "from tensorflow.keras.optimizers import Adam\n",
    "from tensorflow.keras.layers import (\n",
    "    Input, \n",
    "    Conv2D, \n",
    "    MaxPooling2D, \n",
    "    Reshape, \n",
    "    Bidirectional, \n",
    "    LSTM, \n",
    "    Dense, \n",
    "    BatchNormalization, \n",
    "    Dropout, \n",
    "    Softmax, \n",
    "    Flatten\n",
    ")\n"
   ]
  },
  {
   "cell_type": "code",
   "execution_count": 3,
   "metadata": {},
   "outputs": [],
   "source": [
    "# Define function to get digits from image\n",
    "def get_images_of_digits(image):\n",
    "    components = cv2.connectedComponentsWithStats(image, 8, cv2.CV_16U)\n",
    "    position_of_digits = components[2] \n",
    "    number_of_digits = len(position_of_digits) - 1\n",
    "    digits = []\n",
    "    for i in range(number_of_digits):\n",
    "        w = position_of_digits[i+1,0]\n",
    "        h = position_of_digits[i+1,1]\n",
    "        digit = image[h:h+height_of_digit,w:w+width_of_digit]\n",
    "        px_count = np.count_nonzero(digit)\n",
    "        digit = digit / np.sqrt(px_count)  \n",
    "        digits.append(digit)\n",
    "    return digits"
   ]
  }
 ],
 "metadata": {
  "kernelspec": {
   "display_name": "py3-TF2",
   "language": "python",
   "name": "python3"
  },
  "language_info": {
   "codemirror_mode": {
    "name": "ipython",
    "version": 3
   },
   "file_extension": ".py",
   "mimetype": "text/x-python",
   "name": "python",
   "nbconvert_exporter": "python",
   "pygments_lexer": "ipython3",
   "version": "3.8.13"
  },
  "orig_nbformat": 4
 },
 "nbformat": 4,
 "nbformat_minor": 2
}
