{
 "cells": [
  {
   "cell_type": "code",
   "execution_count": 1,
   "metadata": {},
   "outputs": [],
   "source": [
    "import os\n",
    "\n",
    "import sys\n",
    "sys.path.append(\"../project_functions/\")\n",
    "import ad_functions as adfns\n",
    "import ad_crnn_functions as adcrn\n",
    "\n",
    "\n",
    "import pandas as pd\n",
    "import numpy as np\n",
    "import cv2\n",
    "from sklearn.model_selection import train_test_split\n",
    "import tensorflow as tf\n",
    "from tensorflow.keras.models import Model, load_model\n",
    "from tensorflow.keras.optimizers import Adam\n",
    "from tensorflow.keras.layers import (\n",
    "    Input, \n",
    "    Conv2D, \n",
    "    MaxPooling2D, \n",
    "    Reshape, \n",
    "    Bidirectional, \n",
    "    LSTM, \n",
    "    Dense, \n",
    "    BatchNormalization, \n",
    "    Dropout, \n",
    "    Softmax, \n",
    "    Flatten\n",
    ")"
   ]
  },
  {
   "cell_type": "code",
   "execution_count": 2,
   "metadata": {},
   "outputs": [],
   "source": [
    "data = pd.read_csv('digit_training_data.csv')"
   ]
  },
  {
   "cell_type": "code",
   "execution_count": 4,
   "metadata": {},
   "outputs": [],
   "source": [
    "# def load_data():\n",
    "#     # Load the CSV file into a Pandas DataFrame\n",
    "#     df = pd.read_csv(\"digit_training_data.csv\")\n",
    "#     # Extract the file names and digit labels from the DataFrame\n",
    "#     file_names = df[\"file_name\"].values\n",
    "#     labels = df[\"digit\"].values\n",
    "#     # Load the digit images and preprocess them\n",
    "#     images = []\n",
    "#     for file_name in file_names:\n",
    "#         image = cv2.imread(os.path.join(\"./digits\", file_name), cv2.IMREAD_GRAYSCALE)\n",
    "#         image = cv2.resize(image, (32, 32))\n",
    "#         image = np.expand_dims(image, axis=-1)\n",
    "#         images.append(image)\n",
    "#     images = np.array(images)\n",
    "#     # Convert the digit labels to one-hot encoding\n",
    "#     num_classes = 10\n",
    "#     one_hot_labels = np.zeros((len(labels), num_classes))\n",
    "#     for i, label in enumerate(labels):\n",
    "#         one_hot_labels[i, int(label)] = 1\n",
    "#     # Return the images and one-hot labels\n",
    "#     return images, one_hot_labels"
   ]
  },
  {
   "cell_type": "code",
   "execution_count": 13,
   "metadata": {},
   "outputs": [],
   "source": [
    "# def load_data():\n",
    "#     # Load the CSV file into a Pandas DataFrame\n",
    "#     df = pd.read_csv(\"digit_training_data.csv\")\n",
    "#     # Extract the file names and digit labels from the DataFrame\n",
    "#     file_names = df[\"file_name\"].values\n",
    "#     labels = df[\"digit\"].values\n",
    "#     # Load the digit images and preprocess them\n",
    "#     images = []\n",
    "#     for file_name in file_names:\n",
    "#         image = cv2.imread(os.path.join(\"./digits\", file_name))\n",
    "#         image = cv2.resize(image, (32, 32))\n",
    "#         images.append(image)\n",
    "#     images = np.array(images)\n",
    "#     # Convert the digit labels to one-hot encoding\n",
    "#     num_classes = 10\n",
    "#     one_hot_labels = np.zeros((len(labels), num_classes))\n",
    "#     for i, label in enumerate(labels):\n",
    "#         one_hot_labels[i, int(label)] = 1\n",
    "#     # Return the images and one-hot labels\n",
    "#     return images, one_hot_labels\n"
   ]
  },
  {
   "cell_type": "code",
   "execution_count": 18,
   "metadata": {},
   "outputs": [],
   "source": [
    "def one_hot_encode_labels(labels, num_digits, num_classes):\n",
    "    # Initialize an array of zeros to hold the one-hot encoded labels\n",
    "    one_hot_labels = np.zeros((len(labels), num_digits, num_classes))\n",
    "    # Loop over the labels and one-hot encode each digit separately\n",
    "    for i, label in enumerate(labels):\n",
    "        for j, digit in enumerate(str(label)):\n",
    "            one_hot_labels[i, j, int(digit)] = 1\n",
    "    return one_hot_labels\n"
   ]
  },
  {
   "cell_type": "code",
   "execution_count": 19,
   "metadata": {},
   "outputs": [],
   "source": [
    "def load_data():\n",
    "    # Load the CSV file into a Pandas DataFrame\n",
    "    df = pd.read_csv(\"digit_training_data.csv\")\n",
    "    # Extract the file names and digit labels from the DataFrame\n",
    "    file_names = df[\"file_name\"].values\n",
    "    labels = df[\"digit\"].values\n",
    "    # One-hot encode the labels for each digit separately\n",
    "    num_digits = 5\n",
    "    num_classes = 10\n",
    "    one_hot_labels = one_hot_encode_labels(labels, num_digits, num_classes)\n",
    "    # Load the digit images and preprocess them\n",
    "    images = []\n",
    "    for file_name in file_names:\n",
    "        image = cv2.imread(os.path.join(\"./digits\", file_name))\n",
    "        image = cv2.resize(image, (32, 32))\n",
    "        images.append(image)\n",
    "    images = np.array(images)\n",
    "    # Return the images and one-hot labels\n",
    "    return images, one_hot_labels\n"
   ]
  },
  {
   "cell_type": "code",
   "execution_count": 20,
   "metadata": {},
   "outputs": [],
   "source": [
    "# Load the digit images and labels\n",
    "images, labels = load_data()\n",
    "\n",
    "# Split the data into training and test sets\n",
    "X_train, X_test, y_train, y_test = train_test_split(images, labels, test_size=0.2, random_state=42)\n"
   ]
  },
  {
   "cell_type": "code",
   "execution_count": 15,
   "metadata": {},
   "outputs": [],
   "source": [
    "def create_crnn_model(\n",
    "    input_shape=(32, 32, 3), num_digits=5, num_classes=11, learning_rate=1e-4\n",
    "):\n",
    "    input_layer = Input(shape=input_shape)\n",
    "\n",
    "    x = Conv2D(32, (3, 3), activation=\"relu\", padding=\"same\")(input_layer)\n",
    "    x = BatchNormalization()(x)\n",
    "    x = MaxPooling2D((2, 2))(x)\n",
    "\n",
    "    x = Conv2D(64, (3, 3), activation=\"relu\", padding=\"same\")(x)\n",
    "    x = BatchNormalization()(x)\n",
    "    x = MaxPooling2D((2, 2))(x)\n",
    "\n",
    "    x = Conv2D(128, (3, 3), activation=\"relu\", padding=\"same\")(x)\n",
    "    x = BatchNormalization()(x)\n",
    "    x = MaxPooling2D((2, 2))(x)\n",
    "\n",
    "    x = Flatten()(x)\n",
    "    x = Dense(512, activation=\"relu\")(x)\n",
    "    x = BatchNormalization()(x)\n",
    "    x = Dropout(0.5)(x)\n",
    "\n",
    "    x = Dense(num_classes * num_digits, activation=\"linear\")(x)\n",
    "    x = Reshape((num_digits, num_classes))(x)\n",
    "    x = Softmax(axis=-1)(x)\n",
    "\n",
    "    model = Model(inputs=input_layer, outputs=x)\n",
    "    model.compile(\n",
    "        optimizer=Adam(learning_rate=learning_rate),\n",
    "        loss=\"categorical_crossentropy\",\n",
    "        metrics=[\"accuracy\"],\n",
    "    )\n",
    "\n",
    "    return model\n"
   ]
  },
  {
   "cell_type": "code",
   "execution_count": 21,
   "metadata": {},
   "outputs": [],
   "source": [
    "model = create_crnn_model(input_shape=(32, 32, 3), num_digits=5, num_classes=10, learning_rate=1e-4)\n",
    "model.compile(optimizer=Adam(learning_rate=1e-4), loss=\"categorical_crossentropy\", metrics=[\"accuracy\"])\n"
   ]
  },
  {
   "cell_type": "code",
   "execution_count": 22,
   "metadata": {},
   "outputs": [
    {
     "name": "stdout",
     "output_type": "stream",
     "text": [
      "Epoch 1/25\n",
      "2500/2500 [==============================] - 17s 6ms/step - loss: 0.3834 - accuracy: 0.1659 - val_loss: 0.1991 - val_accuracy: 0.2119\n",
      "Epoch 2/25\n",
      "2500/2500 [==============================] - 14s 6ms/step - loss: 0.2499 - accuracy: 0.2037 - val_loss: 0.1722 - val_accuracy: 0.2367\n",
      "Epoch 3/25\n",
      "2500/2500 [==============================] - 14s 6ms/step - loss: 0.2718 - accuracy: 0.1910 - val_loss: 0.1939 - val_accuracy: 0.2159\n",
      "Epoch 4/25\n",
      "2500/2500 [==============================] - 14s 6ms/step - loss: 0.3023 - accuracy: 0.1797 - val_loss: 0.2007 - val_accuracy: 0.2072\n",
      "Epoch 5/25\n",
      "2500/2500 [==============================] - 14s 6ms/step - loss: 0.3171 - accuracy: 0.1729 - val_loss: 0.2090 - val_accuracy: 0.2376\n",
      "Epoch 6/25\n",
      "2500/2500 [==============================] - 14s 6ms/step - loss: 0.3404 - accuracy: 0.1636 - val_loss: 0.2581 - val_accuracy: 0.1815\n",
      "Epoch 7/25\n",
      "2500/2500 [==============================] - 14s 6ms/step - loss: 0.3800 - accuracy: 0.1489 - val_loss: 0.2915 - val_accuracy: 0.1942\n",
      "Epoch 8/25\n",
      "2500/2500 [==============================] - 14s 5ms/step - loss: 0.3936 - accuracy: 0.1421 - val_loss: 0.2976 - val_accuracy: 0.1784\n",
      "Epoch 9/25\n",
      "2500/2500 [==============================] - 14s 6ms/step - loss: 0.4072 - accuracy: 0.1355 - val_loss: 0.3372 - val_accuracy: 0.1615\n",
      "Epoch 10/25\n",
      "2500/2500 [==============================] - 14s 6ms/step - loss: 0.4092 - accuracy: 0.1332 - val_loss: 0.3553 - val_accuracy: 0.1724\n",
      "Epoch 11/25\n",
      "2500/2500 [==============================] - 14s 6ms/step - loss: 0.4212 - accuracy: 0.1273 - val_loss: 0.3882 - val_accuracy: 0.1418\n",
      "Epoch 12/25\n",
      "2500/2500 [==============================] - 14s 6ms/step - loss: 0.4346 - accuracy: 0.1210 - val_loss: 0.4046 - val_accuracy: 0.1291\n",
      "Epoch 13/25\n",
      "2500/2500 [==============================] - 14s 6ms/step - loss: 0.4455 - accuracy: 0.1154 - val_loss: 0.4286 - val_accuracy: 0.0999\n",
      "Epoch 14/25\n",
      "2500/2500 [==============================] - 14s 6ms/step - loss: 0.4479 - accuracy: 0.1141 - val_loss: 0.4321 - val_accuracy: 0.1475\n",
      "Epoch 15/25\n",
      "2500/2500 [==============================] - 14s 6ms/step - loss: 0.4500 - accuracy: 0.1129 - val_loss: 0.4332 - val_accuracy: 0.0969\n",
      "Epoch 16/25\n",
      "2500/2500 [==============================] - 14s 6ms/step - loss: 0.4504 - accuracy: 0.1126 - val_loss: 0.4368 - val_accuracy: 0.1110\n",
      "Epoch 17/25\n",
      "2500/2500 [==============================] - 14s 6ms/step - loss: 0.4529 - accuracy: 0.1113 - val_loss: 0.4402 - val_accuracy: 0.1180\n",
      "Epoch 18/25\n",
      "2500/2500 [==============================] - 14s 6ms/step - loss: 0.4596 - accuracy: 0.1076 - val_loss: 0.4501 - val_accuracy: 0.0799\n",
      "Epoch 19/25\n",
      "2500/2500 [==============================] - 14s 6ms/step - loss: 0.4635 - accuracy: 0.1051 - val_loss: 0.4584 - val_accuracy: 0.1194\n",
      "Epoch 20/25\n",
      "2500/2500 [==============================] - 14s 5ms/step - loss: 0.4654 - accuracy: 0.1033 - val_loss: 0.4606 - val_accuracy: 0.0770\n",
      "Epoch 21/25\n",
      "2500/2500 [==============================] - 13s 5ms/step - loss: 0.4674 - accuracy: 0.1018 - val_loss: 0.4644 - val_accuracy: 0.0792\n",
      "Epoch 22/25\n",
      "2500/2500 [==============================] - 13s 5ms/step - loss: 0.4675 - accuracy: 0.1017 - val_loss: 0.4629 - val_accuracy: 0.0752\n",
      "Epoch 23/25\n",
      "2500/2500 [==============================] - 13s 5ms/step - loss: 0.4681 - accuracy: 0.1013 - val_loss: 0.4616 - val_accuracy: 0.0959\n",
      "Epoch 24/25\n",
      "2500/2500 [==============================] - 13s 5ms/step - loss: 0.4682 - accuracy: 0.1011 - val_loss: 0.4639 - val_accuracy: 0.1687\n",
      "Epoch 25/25\n",
      "2500/2500 [==============================] - 13s 5ms/step - loss: 0.4689 - accuracy: 0.1012 - val_loss: 0.4660 - val_accuracy: 0.0726\n"
     ]
    },
    {
     "data": {
      "text/plain": [
       "<keras.callbacks.History at 0x203db24fca0>"
      ]
     },
     "execution_count": 22,
     "metadata": {},
     "output_type": "execute_result"
    }
   ],
   "source": [
    "model.fit(\n",
    "    X_train,\n",
    "    y_train,\n",
    "    validation_data=(X_test, y_test),\n",
    "    batch_size=64,\n",
    "    epochs=25,\n",
    "    verbose=1\n",
    ")\n"
   ]
  }
 ],
 "metadata": {
  "kernelspec": {
   "display_name": "py3-TF2",
   "language": "python",
   "name": "python3"
  },
  "language_info": {
   "codemirror_mode": {
    "name": "ipython",
    "version": 3
   },
   "file_extension": ".py",
   "mimetype": "text/x-python",
   "name": "python",
   "nbconvert_exporter": "python",
   "pygments_lexer": "ipython3",
   "version": "3.8.13"
  },
  "orig_nbformat": 4
 },
 "nbformat": 4,
 "nbformat_minor": 2
}
