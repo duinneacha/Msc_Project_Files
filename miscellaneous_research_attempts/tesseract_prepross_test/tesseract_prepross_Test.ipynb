{
 "cells": [
  {
   "cell_type": "code",
   "execution_count": 4,
   "metadata": {},
   "outputs": [],
   "source": [
    "from matplotlib import pyplot as plt\n",
    "import cv2\n",
    "\n",
    "import pytesseract\n",
    "\n",
    "# Set the Tesseract path and language\n",
    "pytesseract.pytesseract.tesseract_cmd = 'C:/Users/USER/AppData/Local/Tesseract-OCR/tesseract.exe'\n",
    "config_tesseract = '--tessdata-dir ./ttesseract_langs'\n",
    "lang = 'eng'\n"
   ]
  },
  {
   "cell_type": "code",
   "execution_count": 5,
   "metadata": {},
   "outputs": [
    {
     "ename": "TesseractError",
     "evalue": "(1, 'Warning, detects only orientation with -l eng Estimating resolution as 1969 Too few characters. Skipping this page Warning. Invalid resolution 0 dpi. Using 70 instead. Too few characters. Skipping this page Error during processing.')",
     "output_type": "error",
     "traceback": [
      "\u001b[1;31m---------------------------------------------------------------------------\u001b[0m",
      "\u001b[1;31mTesseractError\u001b[0m                            Traceback (most recent call last)",
      "Cell \u001b[1;32mIn [5], line 6\u001b[0m\n\u001b[0;32m      3\u001b[0m image \u001b[39m=\u001b[39m cv2\u001b[39m.\u001b[39mimread(\u001b[39m'\u001b[39m\u001b[39m./sipaimages/2/22420_20220321135314.jpg\u001b[39m\u001b[39m'\u001b[39m)\n\u001b[0;32m      5\u001b[0m \u001b[39m# Preprocess the image using Tesseract's built-in functions\u001b[39;00m\n\u001b[1;32m----> 6\u001b[0m preprocessed_image \u001b[39m=\u001b[39m pytesseract\u001b[39m.\u001b[39;49mimage_to_osd(image, lang\u001b[39m=\u001b[39;49mlang)\n\u001b[0;32m      7\u001b[0m preprocessed_image \u001b[39m=\u001b[39m pytesseract\u001b[39m.\u001b[39mapply_image_src_transform(preprocessed_image, src_resolution\u001b[39m=\u001b[39m\u001b[39m300\u001b[39m, src_output_string\u001b[39m=\u001b[39m\u001b[39mTrue\u001b[39;00m)\n\u001b[0;32m      8\u001b[0m preprocessed_image \u001b[39m=\u001b[39m pytesseract\u001b[39m.\u001b[39mapply_image_size_and_text_margins(preprocessed_image, width\u001b[39m=\u001b[39m\u001b[39m1920\u001b[39m, height\u001b[39m=\u001b[39m\u001b[39m1080\u001b[39m)\n",
      "File \u001b[1;32mc:\\Users\\USER\\anaconda3\\envs\\py3-TF2\\lib\\site-packages\\pytesseract\\pytesseract.py:552\u001b[0m, in \u001b[0;36mimage_to_osd\u001b[1;34m(image, lang, config, nice, output_type, timeout)\u001b[0m\n\u001b[0;32m    549\u001b[0m config \u001b[39m=\u001b[39m \u001b[39mf\u001b[39m\u001b[39m'\u001b[39m\u001b[39m--psm 0 \u001b[39m\u001b[39m{\u001b[39;00mconfig\u001b[39m.\u001b[39mstrip()\u001b[39m}\u001b[39;00m\u001b[39m'\u001b[39m\n\u001b[0;32m    550\u001b[0m args \u001b[39m=\u001b[39m [image, \u001b[39m'\u001b[39m\u001b[39mosd\u001b[39m\u001b[39m'\u001b[39m, lang, config, nice, timeout]\n\u001b[1;32m--> 552\u001b[0m \u001b[39mreturn\u001b[39;00m {\n\u001b[0;32m    553\u001b[0m     Output\u001b[39m.\u001b[39;49mBYTES: \u001b[39mlambda\u001b[39;49;00m: run_and_get_output(\u001b[39m*\u001b[39;49m(args \u001b[39m+\u001b[39;49m [\u001b[39mTrue\u001b[39;49;00m])),\n\u001b[0;32m    554\u001b[0m     Output\u001b[39m.\u001b[39;49mDICT: \u001b[39mlambda\u001b[39;49;00m: osd_to_dict(run_and_get_output(\u001b[39m*\u001b[39;49margs)),\n\u001b[0;32m    555\u001b[0m     Output\u001b[39m.\u001b[39;49mSTRING: \u001b[39mlambda\u001b[39;49;00m: run_and_get_output(\u001b[39m*\u001b[39;49margs),\n\u001b[0;32m    556\u001b[0m }[output_type]()\n",
      "File \u001b[1;32mc:\\Users\\USER\\anaconda3\\envs\\py3-TF2\\lib\\site-packages\\pytesseract\\pytesseract.py:555\u001b[0m, in \u001b[0;36mimage_to_osd.<locals>.<lambda>\u001b[1;34m()\u001b[0m\n\u001b[0;32m    549\u001b[0m config \u001b[39m=\u001b[39m \u001b[39mf\u001b[39m\u001b[39m'\u001b[39m\u001b[39m--psm 0 \u001b[39m\u001b[39m{\u001b[39;00mconfig\u001b[39m.\u001b[39mstrip()\u001b[39m}\u001b[39;00m\u001b[39m'\u001b[39m\n\u001b[0;32m    550\u001b[0m args \u001b[39m=\u001b[39m [image, \u001b[39m'\u001b[39m\u001b[39mosd\u001b[39m\u001b[39m'\u001b[39m, lang, config, nice, timeout]\n\u001b[0;32m    552\u001b[0m \u001b[39mreturn\u001b[39;00m {\n\u001b[0;32m    553\u001b[0m     Output\u001b[39m.\u001b[39mBYTES: \u001b[39mlambda\u001b[39;00m: run_and_get_output(\u001b[39m*\u001b[39m(args \u001b[39m+\u001b[39m [\u001b[39mTrue\u001b[39;00m])),\n\u001b[0;32m    554\u001b[0m     Output\u001b[39m.\u001b[39mDICT: \u001b[39mlambda\u001b[39;00m: osd_to_dict(run_and_get_output(\u001b[39m*\u001b[39margs)),\n\u001b[1;32m--> 555\u001b[0m     Output\u001b[39m.\u001b[39mSTRING: \u001b[39mlambda\u001b[39;00m: run_and_get_output(\u001b[39m*\u001b[39;49margs),\n\u001b[0;32m    556\u001b[0m }[output_type]()\n",
      "File \u001b[1;32mc:\\Users\\USER\\anaconda3\\envs\\py3-TF2\\lib\\site-packages\\pytesseract\\pytesseract.py:288\u001b[0m, in \u001b[0;36mrun_and_get_output\u001b[1;34m(image, extension, lang, config, nice, timeout, return_bytes)\u001b[0m\n\u001b[0;32m    277\u001b[0m \u001b[39mwith\u001b[39;00m save(image) \u001b[39mas\u001b[39;00m (temp_name, input_filename):\n\u001b[0;32m    278\u001b[0m     kwargs \u001b[39m=\u001b[39m {\n\u001b[0;32m    279\u001b[0m         \u001b[39m'\u001b[39m\u001b[39minput_filename\u001b[39m\u001b[39m'\u001b[39m: input_filename,\n\u001b[0;32m    280\u001b[0m         \u001b[39m'\u001b[39m\u001b[39moutput_filename_base\u001b[39m\u001b[39m'\u001b[39m: temp_name,\n\u001b[1;32m   (...)\u001b[0m\n\u001b[0;32m    285\u001b[0m         \u001b[39m'\u001b[39m\u001b[39mtimeout\u001b[39m\u001b[39m'\u001b[39m: timeout,\n\u001b[0;32m    286\u001b[0m     }\n\u001b[1;32m--> 288\u001b[0m     run_tesseract(\u001b[39m*\u001b[39;49m\u001b[39m*\u001b[39;49mkwargs)\n\u001b[0;32m    289\u001b[0m     filename \u001b[39m=\u001b[39m \u001b[39mf\u001b[39m\u001b[39m\"\u001b[39m\u001b[39m{\u001b[39;00mkwargs[\u001b[39m'\u001b[39m\u001b[39moutput_filename_base\u001b[39m\u001b[39m'\u001b[39m]\u001b[39m}\u001b[39;00m\u001b[39m{\u001b[39;00mextsep\u001b[39m}\u001b[39;00m\u001b[39m{\u001b[39;00mextension\u001b[39m}\u001b[39;00m\u001b[39m\"\u001b[39m\n\u001b[0;32m    290\u001b[0m     \u001b[39mwith\u001b[39;00m \u001b[39mopen\u001b[39m(filename, \u001b[39m'\u001b[39m\u001b[39mrb\u001b[39m\u001b[39m'\u001b[39m) \u001b[39mas\u001b[39;00m output_file:\n",
      "File \u001b[1;32mc:\\Users\\USER\\anaconda3\\envs\\py3-TF2\\lib\\site-packages\\pytesseract\\pytesseract.py:264\u001b[0m, in \u001b[0;36mrun_tesseract\u001b[1;34m(input_filename, output_filename_base, extension, lang, config, nice, timeout)\u001b[0m\n\u001b[0;32m    262\u001b[0m \u001b[39mwith\u001b[39;00m timeout_manager(proc, timeout) \u001b[39mas\u001b[39;00m error_string:\n\u001b[0;32m    263\u001b[0m     \u001b[39mif\u001b[39;00m proc\u001b[39m.\u001b[39mreturncode:\n\u001b[1;32m--> 264\u001b[0m         \u001b[39mraise\u001b[39;00m TesseractError(proc\u001b[39m.\u001b[39mreturncode, get_errors(error_string))\n",
      "\u001b[1;31mTesseractError\u001b[0m: (1, 'Warning, detects only orientation with -l eng Estimating resolution as 1969 Too few characters. Skipping this page Warning. Invalid resolution 0 dpi. Using 70 instead. Too few characters. Skipping this page Error during processing.')"
     ]
    }
   ],
   "source": [
    "\n",
    "\n",
    "\n",
    "# Read the image\n",
    "# image = cv2.imread('image.jpg')\n",
    "image = cv2.imread('./sipaimages/2/22420_20220321135314.jpg')\n",
    "\n",
    "# Preprocess the image using Tesseract's built-in functions\n",
    "preprocessed_image = pytesseract.image_to_osd(image, lang=lang)\n",
    "preprocessed_image = pytesseract.apply_image_src_transform(preprocessed_image, src_resolution=300, src_output_string=True)\n",
    "preprocessed_image = pytesseract.apply_image_size_and_text_margins(preprocessed_image, width=1920, height=1080)\n",
    "\n",
    "# Extract the text from the preprocessed image\n",
    "text = pytesseract.image_to_string(preprocessed_image, lang=lang)\n",
    "print(text)\n",
    "\n"
   ]
  }
 ],
 "metadata": {
  "kernelspec": {
   "display_name": "py3-TF2",
   "language": "python",
   "name": "python3"
  },
  "language_info": {
   "codemirror_mode": {
    "name": "ipython",
    "version": 3
   },
   "file_extension": ".py",
   "mimetype": "text/x-python",
   "name": "python",
   "nbconvert_exporter": "python",
   "pygments_lexer": "ipython3",
   "version": "3.8.13"
  },
  "orig_nbformat": 4,
  "vscode": {
   "interpreter": {
    "hash": "c835aa4cc7894f04a3b4fa0421c4175799550179ef4524ff07892d764bf68d95"
   }
  }
 },
 "nbformat": 4,
 "nbformat_minor": 2
}
